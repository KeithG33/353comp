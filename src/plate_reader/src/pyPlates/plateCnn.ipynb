{
 "cells": [
  {
   "cell_type": "code",
   "execution_count": 1,
   "metadata": {},
   "outputs": [
    {
     "name": "stderr",
     "output_type": "stream",
     "text": [
      "Using TensorFlow backend.\n"
     ]
    },
    {
     "name": "stdout",
     "output_type": "stream",
     "text": [
      "(4472, 64, 64, 1)\n",
      "(2236, 64, 64, 1)\n"
     ]
    }
   ],
   "source": [
    "import matplotlib.pyplot as plt\n",
    "import cv2 as cv\n",
    "import numpy as np\n",
    "import keras\n",
    "from keras import layers\n",
    "from keras import models\n",
    "from keras import optimizers\n",
    "\n",
    "from keras.utils import plot_model\n",
    "from keras import backend\n",
    "import os\n",
    "from sklearn.model_selection import train_test_split\n",
    "from sklearn.preprocessing import LabelEncoder\n",
    "from keras.utils.np_utils import to_categorical  \n",
    "\n",
    "\n",
    "from scipy import ndimage\n",
    "from random import randint\n",
    "\n",
    "\n",
    "numbpath = \"plate/trainimg/numbers/\"\n",
    "letterpath = \"plate/trainimg/letters/\"\n",
    "\n",
    "num_files = os.listdir(numbpath)\n",
    "let_files = os.listdir(letterpath)\n",
    "\n",
    "cut_max = (130,255,255)\n",
    "cut_min=(100, 150,45)\n",
    "\n",
    "nLabels = [F[0] for F in num_files]\n",
    "lLabels = [F[0] for F in let_files]\n",
    "\n",
    "Labels = nLabels + lLabels\n",
    "\n",
    "enc = LabelEncoder()\n",
    "enc.fit(Labels)\n",
    "\n",
    "numClasses = enc.transform(nLabels)\n",
    "letClasses = enc.transform(lLabels)\n",
    "Classes = enc.transform(Labels)\n",
    "\n",
    "def cut_and_blur(img):\n",
    "    hsv = cv.cvtColor(img, cv.COLOR_BGR2HSV)\n",
    "    cut = cv.inRange(hsv, cut_min,cut_max)\n",
    "    return ndimage.uniform_filter(cut, size=randint(7,17))\n",
    "\n",
    "#Classes = to_categorical(Classes, num_classes = 36)\n",
    "\n",
    "numbFrames = [np.array(cv.imread(numbpath + F)) for F in num_files]\n",
    "letFrames = [np.array(cv.imread(letterpath + F)) for F in let_files]\n",
    "\n",
    "Frames = numbFrames + letFrames\n",
    "#print(Frames)\n",
    "#Frames = [np.delete(x, range(100,110), 1) for x in Frames]\n",
    "letFrames = [np.reshape(cv.resize(cut_and_blur(x), (64,64)), (64,64,1)) for x in letFrames]\n",
    "letFrames = np.stack(letFrames).astype(float)/255\n",
    "numbFrames = [np.reshape(cv.resize(cut_and_blur(x), (64,64)), (64,64,1)) for x in numbFrames]\n",
    "numbFrames = np.stack(numbFrames).astype(float)/255\n",
    "Frames = [np.reshape(cv.resize(cut_and_blur(x), (64,64)), (64,64,1)) for x in Frames]\n",
    "Frames = np.stack(Frames).astype(float)/255\n",
    "\n",
    "print(Frames.shape)\n",
    "#Frames = Frames.reshape(Frames.shape[1]*Frames.shape[2]*Frames.shape[3], Frames.shape[0]).T\n",
    "print(letFrames.shape)\n",
    "\n",
    "xtrainL, xtestL, ytrainL, ytestL = train_test_split(letFrames, letClasses, test_size = 0.1)\n",
    "xtrainL, xtestN, ytrainN, ytestN = train_test_split(numbFrames, numClasses, test_size = 0.1)\n",
    "xtrain, xtest, ytrain, ytest  = train_test_split(Frames, Classes, test_size = 0.1)"
   ]
  },
  {
   "cell_type": "code",
   "execution_count": 30,
   "metadata": {},
   "outputs": [
    {
     "name": "stdout",
     "output_type": "stream",
     "text": [
      "Train on 3621 samples, validate on 403 samples\n",
      "Epoch 1/15\n",
      "3621/3621 [==============================] - 18s 5ms/step - loss: 2.3234 - accuracy: 0.3568 - val_loss: 0.3148 - val_accuracy: 0.9156\n",
      "Epoch 2/15\n",
      "3621/3621 [==============================] - 17s 5ms/step - loss: 0.5027 - accuracy: 0.8384 - val_loss: 0.0155 - val_accuracy: 1.0000\n",
      "Epoch 3/15\n",
      "3621/3621 [==============================] - 19s 5ms/step - loss: 0.2153 - accuracy: 0.9249 - val_loss: 0.0015 - val_accuracy: 1.0000\n",
      "Epoch 4/15\n",
      "3621/3621 [==============================] - 18s 5ms/step - loss: 0.1369 - accuracy: 0.9536 - val_loss: 0.0014 - val_accuracy: 1.0000\n",
      "Epoch 5/15\n",
      "3621/3621 [==============================] - 18s 5ms/step - loss: 0.1233 - accuracy: 0.9572 - val_loss: 5.8751e-04 - val_accuracy: 1.0000\n",
      "Epoch 6/15\n",
      "3621/3621 [==============================] - 14s 4ms/step - loss: 0.0968 - accuracy: 0.9732 - val_loss: 9.8169e-04 - val_accuracy: 1.0000\n",
      "Epoch 7/15\n",
      "3621/3621 [==============================] - 14s 4ms/step - loss: 0.0663 - accuracy: 0.9790 - val_loss: 2.7926e-05 - val_accuracy: 1.0000\n",
      "Epoch 8/15\n",
      "3621/3621 [==============================] - 15s 4ms/step - loss: 0.0722 - accuracy: 0.9746 - val_loss: 1.0107e-04 - val_accuracy: 1.0000\n",
      "Epoch 9/15\n",
      "3621/3621 [==============================] - 15s 4ms/step - loss: 0.0590 - accuracy: 0.9843 - val_loss: 2.7005e-05 - val_accuracy: 1.0000\n",
      "Epoch 10/15\n",
      "3621/3621 [==============================] - 14s 4ms/step - loss: 0.0564 - accuracy: 0.9801 - val_loss: 3.3597e-05 - val_accuracy: 1.0000\n",
      "Epoch 11/15\n",
      "3621/3621 [==============================] - 15s 4ms/step - loss: 0.0525 - accuracy: 0.9843 - val_loss: 1.2000e-04 - val_accuracy: 1.0000\n",
      "Epoch 12/15\n",
      "3621/3621 [==============================] - 14s 4ms/step - loss: 0.0447 - accuracy: 0.9854 - val_loss: 1.6257e-05 - val_accuracy: 1.0000\n",
      "Epoch 13/15\n",
      "3621/3621 [==============================] - 16s 4ms/step - loss: 0.0424 - accuracy: 0.9851 - val_loss: 1.8726e-05 - val_accuracy: 1.0000\n",
      "Epoch 14/15\n",
      "3621/3621 [==============================] - 17s 5ms/step - loss: 0.0866 - accuracy: 0.9751 - val_loss: 1.9957e-04 - val_accuracy: 1.0000\n",
      "Epoch 15/15\n",
      "3621/3621 [==============================] - 16s 4ms/step - loss: 0.0347 - accuracy: 0.9890 - val_loss: 3.6993e-05 - val_accuracy: 1.0000\n"
     ]
    }
   ],
   "source": [
    "# model = models.Sequential()\n",
    "# model.add(layers.Conv2D(64, (3, 3), input_shape = (128,128,3), activation='relu',))\n",
    "# model.add(layers.MaxPooling2D((2, 2)))\n",
    "# model.add(layers.Conv2D(128, (3, 3), activation='relu'))\n",
    "# model.add(layers.MaxPooling2D((2, 2)))\n",
    "# model.add(lay ers.MaxPooling2D((2, 2)))\n",
    "# model.add(layers.Flatten())\n",
    "# model.add(layers.Dropout(0.5))\n",
    "# model.add(layers.Dense(512, activation='relu'))\n",
    "# model.add(layers.Dense(128, activation = 'relu'))\n",
    "# model.add(layers.Dense(36, activation='softmax'))\n",
    "\n",
    "model = models.Sequential()\n",
    "model.add(layers.Conv2D(32, (3, 3), activation='relu', input_shape=(64,64, 1)))\n",
    "model.add(layers.MaxPooling2D((2, 2)))\n",
    "model.add(layers.Conv2D(64, (3, 3), activation='relu'))\n",
    "model.add(layers.MaxPooling2D((2, 2)))\n",
    "model.add(layers.Conv2D(128, (3, 3), activation='relu'))\n",
    "model.add(layers.MaxPooling2D((2, 2)))\n",
    "model.add(layers.Conv2D(128, (3, 3), activation='relu'))\n",
    "model.add(layers.MaxPooling2D((2, 2)))\n",
    "model.add(layers.Dropout(0.5))\n",
    "model.add(layers.Flatten())\n",
    "model.add(layers.Dropout(0.5))\n",
    "model.add(layers.Dense(512, activation='relu'))\n",
    "model.add(layers.Dropout(0.5))\n",
    "model.add(layers.Dense(36, activation='softmax'))\n",
    "\n",
    "#adam = optimizers.adam(lr= 1e-3)\n",
    "\n",
    "#train the model\n",
    "model.compile(optimizer='adam',\n",
    "             loss='sparse_categorical_crossentropy',\n",
    "             metrics=['accuracy'])\n",
    "\n",
    "history = model.fit(xtrain, ytrain, validation_split = 0.1,\n",
    "         epochs=15,\n",
    "         verbose=1)"
   ]
  },
  {
   "cell_type": "code",
   "execution_count": 31,
   "metadata": {},
   "outputs": [],
   "source": [
    "pred = model.predict(xtest)\n",
    "pred = enc.inverse_transform([np.argmax(x) for x in pred])"
   ]
  },
  {
   "cell_type": "code",
   "execution_count": null,
   "metadata": {},
   "outputs": [],
   "source": [
    "testlabels = enc.inverse_transform(ytest)\n",
    "import sklearn\n",
    "\n",
    "confmatrix = sklearn.metrics.confusion_matrix(pred, testlabels)\n",
    "#print(confmatrix)\n",
    "\n",
    "import seaborn as sn\n",
    "import pandas as pd\n",
    "import matplotlib.pyplot as plt\n",
    "df_cm = pd.DataFrame(confmatrix, index = [i for i in Labels],\n",
    "                  columns = [i for i in Labels])\n",
    "plt.figure(figsize = (10,7))\n",
    "sn.heatmap(df_cm, annot=True)\n",
    "\n",
    "\n",
    "# for fr in xtest:\n",
    "#     plt.imshow(fr[:,:,0])\n",
    "#     title = pred[i]\n",
    "#     plt.title(title)\n",
    "#     plt.show() #enc.inverse_transform([pred[i]])+ \" \" + enc.inverse_transform([ytest[i]]))\n",
    "#     i += 1"
   ]
  },
  {
   "cell_type": "code",
   "execution_count": null,
   "metadata": {},
   "outputs": [],
   "source": [
    "# import joblib\n",
    "# import pickle \n",
    "# #joblib.dump(model, \"cnn.jb\")\n",
    "# with open('cnn.pkl', 'wb') as f:\n",
    "#     pickle.dump(model,f)\n",
    "# #joblib.dump(enc, \"encoder.jb\")\n"
   ]
  },
  {
   "cell_type": "code",
   "execution_count": null,
   "metadata": {},
   "outputs": [],
   "source": [
    "# model.save('anothermodel_all.h5')"
   ]
  },
  {
   "cell_type": "code",
   "execution_count": null,
   "metadata": {},
   "outputs": [],
   "source": [
    "out = clf.predict(model.predict(xtest))"
   ]
  },
  {
   "cell_type": "code",
   "execution_count": null,
   "metadata": {},
   "outputs": [],
   "source": [
    "print(xtrain.shape[1:]+ (1,))"
   ]
  },
  {
   "cell_type": "code",
   "execution_count": null,
   "metadata": {},
   "outputs": [],
   "source": [
    "model.fit(xtrain, ytrain,\n",
    "         epochs=25,\n",
    "         verbose=1)"
   ]
  },
  {
   "cell_type": "code",
   "execution_count": 33,
   "metadata": {},
   "outputs": [
    {
     "data": {
      "image/png": "[encoded data removed]",
      "text/plain": [
       "<Figure size 432x288 with 1 Axes>"
      ]
     },
     "metadata": {
      "needs_background": "light"
     },
     "output_type": "display_data"
    }
   ],
   "source": [
    "import matplotlib.pyplot as plt\n",
    "\n",
    "plt.plot(history.history['accuracy'])\n",
    "plt.plot(history.history['val_accuracy'])\n",
    "plt.title('model accuracy')\n",
    "plt.ylabel('accuracy')\n",
    "plt.xlabel('epoch')\n",
    "plt.legend(['train', 'val', ], loc='upper left')\n",
    "plt.show()"
   ]
  },
  {
   "cell_type": "code",
   "execution_count": 35,
   "metadata": {},
   "outputs": [
    {
     "data": {
      "image/png": "[encoded data removed]",
      "text/plain": [
       "<Figure size 432x288 with 1 Axes>"
      ]
     },
     "metadata": {
      "needs_background": "light"
     },
     "output_type": "display_data"
    }
   ],
   "source": [
    "plt.plot(history.history['loss'])\n",
    "plt.plot(history.history['val_loss'])\n",
    "plt.title('model loss')\n",
    "plt.ylabel('loss')\n",
    "plt.xlabel('epoch')\n",
    "plt.legend(['train loss', 'validation lass', ], loc='upper right')\n",
    "plt.show()"
   ]
  }
 ],
 "metadata": {
  "kernelspec": {
   "display_name": "Python 2",
   "language": "python",
   "name": "python2"
  },
  "language_info": {
   "codemirror_mode": {
    "name": "ipython",
    "version": 2
   },
   "file_extension": ".py",
   "mimetype": "text/x-python",
   "name": "python",
   "nbconvert_exporter": "python",
   "pygments_lexer": "ipython2",
   "version": "2.7.17"
  }
 },
 "nbformat": 4,
 "nbformat_minor": 2
}
