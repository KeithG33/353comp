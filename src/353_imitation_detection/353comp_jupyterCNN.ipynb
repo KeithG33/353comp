{
 "cells": [
  {
   "cell_type": "code",
   "execution_count": 1,
   "metadata": {},
   "outputs": [
    {
     "output_type": "stream",
     "name": "stderr",
     "text": "Using TensorFlow backend.\nNumber of images loaded:  32123\n"
    }
   ],
   "source": [
    "#!/usr/bin/env python\n",
    "import math\n",
    "import random\n",
    "import numpy as np\n",
    "from collections import Counter\n",
    "from matplotlib import pyplot as plt\n",
    "from PIL import Image\n",
    "import os\n",
    "import cv2\n",
    "import re\n",
    "\n",
    "from keras import layers\n",
    "from keras import models\n",
    "from keras import optimizers\n",
    "\n",
    "from keras.utils import plot_model\n",
    "from keras import backend\n",
    "\n",
    "#Load all our images into separate lists by first making a method that takes\n",
    "#the path and returns a list of pictures (their file paths)\n",
    "PATH_PICS_FOLDER = \"/home/fizzer/353comp/src/imitation_pics/\"\n",
    "\n",
    "def pic_file_list(folder_path):\n",
    "    pic_path_list = []\n",
    "\n",
    "    for r,d,f in os.walk(folder_path):\n",
    "        for file in f:\n",
    "            if '.png' in file:\n",
    "                filePath = os.path.join(r,file)\n",
    "                pic_path_list.append(filePath)\n",
    "\n",
    "    return pic_path_list\n",
    "\n",
    "backward_pic_list = pic_file_list(PATH_PICS_FOLDER + \"backward\")\n",
    "forward_pic_list = pic_file_list(PATH_PICS_FOLDER + \"forward\")\n",
    "left_pic_list = pic_file_list(PATH_PICS_FOLDER + \"left\")\n",
    "right_pic_list = pic_file_list(PATH_PICS_FOLDER + \"right\")\n",
    "\n",
    "total_pic_list = []\n",
    "total_pic_list.extend(backward_pic_list + forward_pic_list + left_pic_list + right_pic_list)\n",
    "\n",
    "#pix = cv2.imread(total_pic_list[0])\n",
    "#cv2.imshow(\"test\",pix)\n",
    "#cv2.waitKey(0)\n",
    "\n",
    "print(\"Number of images loaded:  {:}\".format(len(total_pic_list)))\n",
    ""
   ]
  },
  {
   "cell_type": "code",
   "execution_count": 2,
   "metadata": {},
   "outputs": [
    {
     "output_type": "stream",
     "name": "stdout",
     "text": "(12804, 4)\n"
    }
   ],
   "source": [
    "#Now we make our X_train and Y_train dataset, so first we need to shuffle.\n",
    "random.shuffle(forward_pic_list) \n",
    "random.shuffle(backward_pic_list)\n",
    "random.shuffle(left_pic_list)\n",
    "random.shuffle(right_pic_list)\n",
    "\n",
    "PICS_TO_USE = 5000\n",
    "training_pic_list = []\n",
    "training_pic_list.extend(forward_pic_list[:PICS_TO_USE] + backward_pic_list + left_pic_list + right_pic_list[:PICS_TO_USE])\n",
    "random.shuffle(training_pic_list)\n",
    "\n",
    "X_train = []\n",
    "Y_train = []\n",
    "\n",
    "for img in training_pic_list:\n",
    "\n",
    "    frame_pic = cv2.imread(img)\n",
    "    X_train.append(frame_pic)\n",
    "\n",
    "    if img in forward_pic_list:\n",
    "        Y_train.append([1,0,0,0])\n",
    "    elif img in backward_pic_list:\n",
    "         Y_train.append([0,1,0,0])\n",
    "    elif img in left_pic_list:\n",
    "         Y_train.append([0,0,1,0])\n",
    "    elif img in right_pic_list:\n",
    "         Y_train.append([0,0,0,1])\n",
    "\n",
    "#Normalize\n",
    "X_train = np.array(X_train)\n",
    "X_train_normed = X_train / 255\n",
    "Y_train = np.array(Y_train)\n",
    "\n",
    "print(Y_train.shape)\n",
    ""
   ]
  },
  {
   "cell_type": "code",
   "execution_count": null,
   "metadata": {},
   "outputs": [],
   "source": [
    "def display_image(index):\n",
    "    plt.imshow(X_train[index])\n",
    "    caption = (\"Y (action) = \" + str(Y_train[index]))\n",
    "    plt.text(0.5,0.5,caption, color = 'red', fontsize=18, horizontalalignment='left', verticalalignment ='bottom')\n",
    "\n",
    "display_image(1700)"
   ]
  },
  {
   "cell_type": "code",
   "execution_count": 3,
   "metadata": {},
   "outputs": [
    {
     "output_type": "stream",
     "name": "stdout",
     "text": "WARNING:tensorflow:From /usr/local/lib/python2.7/dist-packages/keras/backend/tensorflow_backend.py:541: The name tf.placeholder is deprecated. Please use tf.compat.v1.placeholder instead.\n\nWARNING:tensorflow:From /usr/local/lib/python2.7/dist-packages/keras/backend/tensorflow_backend.py:4432: The name tf.random_uniform is deprecated. Please use tf.random.uniform instead.\n\nWARNING:tensorflow:From /usr/local/lib/python2.7/dist-packages/keras/backend/tensorflow_backend.py:4267: The name tf.nn.max_pool is deprecated. Please use tf.nn.max_pool2d instead.\n\nWARNING:tensorflow:From /usr/local/lib/python2.7/dist-packages/keras/backend/tensorflow_backend.py:66: The name tf.get_default_graph is deprecated. Please use tf.compat.v1.get_default_graph instead.\n\nWARNING:tensorflow:From /usr/local/lib/python2.7/dist-packages/keras/backend/tensorflow_backend.py:148: The name tf.placeholder_with_default is deprecated. Please use tf.compat.v1.placeholder_with_default instead.\n\nWARNING:tensorflow:From /usr/local/lib/python2.7/dist-packages/keras/backend/tensorflow_backend.py:3733: calling dropout (from tensorflow.python.ops.nn_ops) with keep_prob is deprecated and will be removed in a future version.\nInstructions for updating:\nPlease use `rate` instead of `keep_prob`. Rate should be set to `rate = 1 - keep_prob`.\nWARNING:tensorflow:From /usr/local/lib/python2.7/dist-packages/keras/backend/tensorflow_backend.py:190: The name tf.get_default_session is deprecated. Please use tf.compat.v1.get_default_session instead.\n\nWARNING:tensorflow:From /usr/local/lib/python2.7/dist-packages/keras/optimizers.py:793: The name tf.train.Optimizer is deprecated. Please use tf.compat.v1.train.Optimizer instead.\n\nWARNING:tensorflow:From /home/fizzer/.local/lib/python2.7/site-packages/tensorflow/python/ops/math_grad.py:1250: where (from tensorflow.python.ops.array_ops) is deprecated and will be removed in a future version.\nInstructions for updating:\nUse tf.where in 2.0, which has the same broadcast rule as np.where\n"
    }
   ],
   "source": [
    "loaded_model = models.load_model(\"/home/fizzer/Comp_CNN/new_model_driver_cnn.h5\")\n",
    "loaded_model._make_predict_function()\n",
    "\n",
    "loaded_model.compile(loss = 'categorical_crossentropy',\n",
    "                  optimizer = optimizers.RMSprop(lr=1e-4),\n",
    "                  metrics=['accuracy'])"
   ]
  },
  {
   "cell_type": "code",
   "execution_count": null,
   "metadata": {},
   "outputs": [],
   "source": [
    "#Now we build the model (or load one above)\n",
    "\n",
    "conv_model = models.Sequential()\n",
    "\n",
    "conv_model.add(layers.Conv2D(32,(3,3), activation = 'relu', input_shape=(480,640,3)))\n",
    "conv_model.add(layers.MaxPooling2D((2,2)))\n",
    "conv_model.add(layers.Conv2D(64,(3,3), activation = 'relu'))\n",
    "conv_model.add(layers.MaxPooling2D(pool_size=(2,2)))\n",
    "conv_model.add(layers.Conv2D(128,(3,3), activation = 'relu'))\n",
    "conv_model.add(layers.Flatten())\n",
    "conv_model.add(layers.Dropout(0.5))\n",
    "conv_model.add(layers.Dense(128, activation='relu'))\n",
    "\n",
    "num_possibilities = 4\n",
    "conv_model.add(layers.Dense(num_possibilities,activation = 'softmax'))\n",
    "\n",
    "conv_model.summary()"
   ]
  },
  {
   "cell_type": "code",
   "execution_count": null,
   "metadata": {},
   "outputs": [],
   "source": [
    "loaded_model.compile(loss = 'categorical_crossentropy',\n",
    "                  optimizer = optimizers.RMSprop(lr=1e-4),\n",
    "                  metrics=['accuracy'])"
   ]
  },
  {
   "cell_type": "code",
   "execution_count": 4,
   "metadata": {},
   "outputs": [
    {
     "output_type": "stream",
     "name": "stdout",
     "text": "Train on 8706 samples, validate on 4098 samples\nEpoch 1/15\n8706/8706 [==============================] - 2643s 304ms/step - loss: 0.1796 - acc: 0.9392 - val_loss: 0.1933 - val_acc: 0.9383\nEpoch 2/15\n8706/8706 [==============================] - 2600s 299ms/step - loss: 0.1507 - acc: 0.9445 - val_loss: 0.1627 - val_acc: 0.9468\nEpoch 3/15\n8706/8706 [==============================] - 2607s 299ms/step - loss: 0.1384 - acc: 0.9512 - val_loss: 0.3144 - val_acc: 0.9287\nEpoch 4/15\n8706/8706 [==============================] - 2601s 299ms/step - loss: 0.1278 - acc: 0.9526 - val_loss: 0.1633 - val_acc: 0.9473\nEpoch 5/15\n8706/8706 [==============================] - 2597s 298ms/step - loss: 0.1138 - acc: 0.9607 - val_loss: 0.1716 - val_acc: 0.9431\nEpoch 6/15\n8706/8706 [==============================] - 2595s 298ms/step - loss: 0.1040 - acc: 0.9638 - val_loss: 0.2683 - val_acc: 0.9366\nEpoch 7/15\n8706/8706 [==============================] - 2602s 299ms/step - loss: 0.0994 - acc: 0.9667 - val_loss: 0.1601 - val_acc: 0.9514\nEpoch 8/15\n8706/8706 [==============================] - 2604s 299ms/step - loss: 0.0937 - acc: 0.9680 - val_loss: 0.1635 - val_acc: 0.9495\nEpoch 9/15\n8706/8706 [==============================] - 2615s 300ms/step - loss: 0.0860 - acc: 0.9698 - val_loss: 0.2299 - val_acc: 0.9422\nEpoch 10/15\n8706/8706 [==============================] - 2616s 300ms/step - loss: 0.0811 - acc: 0.9729 - val_loss: 0.1813 - val_acc: 0.9524\nEpoch 11/15\n8706/8706 [==============================] - 2612s 300ms/step - loss: 0.0765 - acc: 0.9734 - val_loss: 0.2227 - val_acc: 0.9366\nEpoch 12/15\n8706/8706 [==============================] - 2599s 299ms/step - loss: 0.0673 - acc: 0.9763 - val_loss: 0.2128 - val_acc: 0.9456\nEpoch 13/15\n8706/8706 [==============================] - 2605s 299ms/step - loss: 0.0651 - acc: 0.9785 - val_loss: 0.2250 - val_acc: 0.9327\nEpoch 14/15\n8706/8706 [==============================] - 2611s 300ms/step - loss: 0.0561 - acc: 0.9786 - val_loss: 0.3500 - val_acc: 0.8868\nEpoch 15/15\n8706/8706 [==============================] - 2604s 299ms/step - loss: 0.0582 - acc: 0.9804 - val_loss: 0.2892 - val_acc: 0.9417\n"
    },
    {
     "output_type": "display_data",
     "data": {
      "image/png": "[encoded data removed]",
      "text/plain": "<Figure size 432x288 with 1 Axes>"
     },
     "metadata": {
      "needs_background": "light"
     }
    }
   ],
   "source": [
    "VALIDATION_SPLIT = 0.32\n",
    "history_conv = loaded_model.fit(X_train_normed,Y_train,\n",
    "                              batch_size=16,\n",
    "                              epochs=15,\n",
    "                              validation_split=VALIDATION_SPLIT)\n",
    "\n",
    "#plot loss vs epoch\n",
    "plt.plot(history_conv.history['loss'])\n",
    "plt.plot(history_conv.history['val_loss'])\n",
    "plt.title('model loss')\n",
    "plt.ylabel('loss')\n",
    "plt.xlabel('epoch')\n",
    "plt.legend(['train loss', 'val loss'], loc='upper left')\n",
    "plt.show()"
   ]
  },
  {
   "cell_type": "code",
   "execution_count": 5,
   "metadata": {},
   "outputs": [
    {
     "output_type": "display_data",
     "data": {
      "image/png": "[encoded data removed]",
      "text/plain": "<Figure size 432x288 with 1 Axes>"
     },
     "metadata": {
      "needs_background": "light"
     }
    }
   ],
   "source": [
    "#plot accuracy % vs epoch\n",
    "plt.plot(history_conv.history['acc'])\n",
    "plt.plot(history_conv.history['val_acc'])\n",
    "plt.title('model accuracy')\n",
    "plt.ylabel('accuracy (%)')\n",
    "plt.xlabel('epoch')\n",
    "plt.legend(['train accuracy', 'val accuracy'], loc='upper left')\n",
    "plt.show()"
   ]
  },
  {
   "cell_type": "code",
   "execution_count": 6,
   "metadata": {},
   "outputs": [
    {
     "output_type": "error",
     "ename": "NameError",
     "evalue": "global name 'conv_model' is not defined",
     "traceback": [
      "\u001b[0;31m\u001b[0m",
      "\u001b[0;31mNameError\u001b[0mTraceback (most recent call last)",
      "\u001b[0;32m<ipython-input-6-22784f40b735>\u001b[0m in \u001b[0;36m<module>\u001b[0;34m()\u001b[0m\n\u001b[1;32m     16\u001b[0m     \u001b[0;32mreturn\u001b[0m \u001b[0my_predict\u001b[0m\u001b[0;34m\u001b[0m\u001b[0m\n\u001b[1;32m     17\u001b[0m \u001b[0;34m\u001b[0m\u001b[0m\n\u001b[0;32m---> 18\u001b[0;31m \u001b[0mdisplayResult\u001b[0m\u001b[0;34m(\u001b[0m\u001b[0;36m999\u001b[0m\u001b[0;34m)\u001b[0m\u001b[0;34m\u001b[0m\u001b[0m\n\u001b[0m",
      "\u001b[0;32m<ipython-input-6-22784f40b735>\u001b[0m in \u001b[0;36mdisplayResult\u001b[0;34m(index)\u001b[0m\n\u001b[1;32m      3\u001b[0m     \u001b[0mimg_with_top\u001b[0m \u001b[0;34m=\u001b[0m \u001b[0mnp\u001b[0m\u001b[0;34m.\u001b[0m\u001b[0mexpand_dims\u001b[0m\u001b[0;34m(\u001b[0m\u001b[0mimg\u001b[0m\u001b[0;34m,\u001b[0m\u001b[0maxis\u001b[0m\u001b[0;34m=\u001b[0m\u001b[0;36m0\u001b[0m\u001b[0;34m)\u001b[0m\u001b[0;34m\u001b[0m\u001b[0m\n\u001b[1;32m      4\u001b[0m \u001b[0;34m\u001b[0m\u001b[0m\n\u001b[0;32m----> 5\u001b[0;31m     \u001b[0my_predict\u001b[0m \u001b[0;34m=\u001b[0m \u001b[0mconv_model\u001b[0m\u001b[0;34m.\u001b[0m\u001b[0mpredict\u001b[0m\u001b[0;34m(\u001b[0m\u001b[0mimg_with_top\u001b[0m\u001b[0;34m)\u001b[0m\u001b[0;34m\u001b[0m\u001b[0m\n\u001b[0m\u001b[1;32m      6\u001b[0m     \u001b[0;32mprint\u001b[0m \u001b[0my_predict\u001b[0m\u001b[0;34m\u001b[0m\u001b[0m\n\u001b[1;32m      7\u001b[0m \u001b[0;34m\u001b[0m\u001b[0m\n",
      "\u001b[0;31mNameError\u001b[0m: global name 'conv_model' is not defined"
     ]
    }
   ],
   "source": [
    "def displayResult(index):\n",
    "    img = X_train_normed[index]\n",
    "    img_with_top = np.expand_dims(img,axis=0)\n",
    "    \n",
    "    y_predict = conv_model.predict(img_with_top)\n",
    "    print y_predict\n",
    "        \n",
    "    plt.imshow(X_train[index])\n",
    "\n",
    "    caption = (\"Actual: {}\\nPredicted: {}\".\n",
    "                format(Y_train[index], y_predict))\n",
    "    plt.text(0.5, 0.5, caption, \n",
    "           color='orange', fontsize = 16,\n",
    "           horizontalalignment='left', verticalalignment='bottom')\n",
    "    \n",
    "    return y_predict\n",
    "\n",
    "displayResult(999)"
   ]
  },
  {
   "cell_type": "code",
   "execution_count": 7,
   "metadata": {},
   "outputs": [
    {
     "output_type": "stream",
     "name": "stdout",
     "text": "saved model\n"
    }
   ],
   "source": [
    "loaded_model.save(\"new_trained_model_driver_cnn_bad?_overnight.h5\")\n",
    "print(\"saved model\")\n",
    "\n",
    "#Note: to load module use load_model(filepath)"
   ]
  },
  {
   "cell_type": "code",
   "execution_count": null,
   "metadata": {},
   "outputs": [],
   "source": [
    "def reset_weights(model):\n",
    "    session = backend.get_session()\n",
    "    for layer in model.layers: \n",
    "        if hasattr(layer, 'kernel_initializer'):\n",
    "            layer.kernel.initializer.run(session=session)"
   ]
  },
  {
   "cell_type": "code",
   "execution_count": 8,
   "metadata": {},
   "outputs": [],
   "source": [
    "import seaborn as sn\n",
    "import pandas as pd\n",
    "import matplotlib.pyplot as plt\n",
    "from sklearn import metrics"
   ]
  },
  {
   "cell_type": "code",
   "execution_count": 11,
   "metadata": {},
   "outputs": [
    {
     "output_type": "stream",
     "name": "stdout",
     "text": "2786\n"
    },
    {
     "output_type": "error",
     "ename": "KeyboardInterrupt",
     "evalue": "",
     "traceback": [
      "\u001b[0;31m\u001b[0m",
      "\u001b[0;31mKeyboardInterrupt\u001b[0mTraceback (most recent call last)",
      "\u001b[0;32m<ipython-input-11-f1f7adcd2e01>\u001b[0m in \u001b[0;36m<module>\u001b[0;34m()\u001b[0m\n\u001b[1;32m      4\u001b[0m \u001b[0mlabels\u001b[0m \u001b[0;34m=\u001b[0m \u001b[0;34m[\u001b[0m\u001b[0;34m\"Forward\"\u001b[0m\u001b[0;34m,\u001b[0m \u001b[0;34m\"Backward\"\u001b[0m\u001b[0;34m,\u001b[0m \u001b[0;34m\"Left\"\u001b[0m\u001b[0;34m,\u001b[0m \u001b[0;34m\"Right\"\u001b[0m\u001b[0;34m]\u001b[0m\u001b[0;34m\u001b[0m\u001b[0m\n\u001b[1;32m      5\u001b[0m \u001b[0my_gnd_truth\u001b[0m \u001b[0;34m=\u001b[0m \u001b[0mY_train\u001b[0m\u001b[0;34m[\u001b[0m\u001b[0msplit\u001b[0m\u001b[0;34m:\u001b[0m\u001b[0;34m]\u001b[0m\u001b[0;34m.\u001b[0m\u001b[0margmax\u001b[0m\u001b[0;34m(\u001b[0m\u001b[0maxis\u001b[0m\u001b[0;34m=\u001b[0m\u001b[0;36m1\u001b[0m\u001b[0;34m)\u001b[0m\u001b[0;34m\u001b[0m\u001b[0m\n\u001b[0;32m----> 6\u001b[0;31m \u001b[0my_pred_raw\u001b[0m \u001b[0;34m=\u001b[0m \u001b[0mloaded_model\u001b[0m\u001b[0;34m.\u001b[0m\u001b[0mpredict\u001b[0m\u001b[0;34m(\u001b[0m\u001b[0mX_train_normed\u001b[0m\u001b[0;34m[\u001b[0m\u001b[0msplit\u001b[0m\u001b[0;34m:\u001b[0m\u001b[0;34m]\u001b[0m\u001b[0;34m)\u001b[0m\u001b[0;34m\u001b[0m\u001b[0m\n\u001b[0m\u001b[1;32m      7\u001b[0m \u001b[0my_pred\u001b[0m \u001b[0;34m=\u001b[0m \u001b[0my_pred_raw\u001b[0m\u001b[0;34m.\u001b[0m\u001b[0margmax\u001b[0m\u001b[0;34m(\u001b[0m\u001b[0maxis\u001b[0m\u001b[0;34m=\u001b[0m\u001b[0;36m1\u001b[0m\u001b[0;34m)\u001b[0m\u001b[0;34m\u001b[0m\u001b[0m\n\u001b[1;32m      8\u001b[0m \u001b[0;34m\u001b[0m\u001b[0m\n",
      "\u001b[0;32m/usr/local/lib/python2.7/dist-packages/keras/engine/training.pyc\u001b[0m in \u001b[0;36mpredict\u001b[0;34m(self, x, batch_size, verbose, steps, callbacks, max_queue_size, workers, use_multiprocessing)\u001b[0m\n\u001b[1;32m   1399\u001b[0m                                             \u001b[0mverbose\u001b[0m\u001b[0;34m=\u001b[0m\u001b[0mverbose\u001b[0m\u001b[0;34m,\u001b[0m\u001b[0;34m\u001b[0m\u001b[0m\n\u001b[1;32m   1400\u001b[0m                                             \u001b[0msteps\u001b[0m\u001b[0;34m=\u001b[0m\u001b[0msteps\u001b[0m\u001b[0;34m,\u001b[0m\u001b[0;34m\u001b[0m\u001b[0m\n\u001b[0;32m-> 1401\u001b[0;31m                                             callbacks=callbacks)\n\u001b[0m\u001b[1;32m   1402\u001b[0m \u001b[0;34m\u001b[0m\u001b[0m\n\u001b[1;32m   1403\u001b[0m     def train_on_batch(self, x, y,\n",
      "\u001b[0;32m/usr/local/lib/python2.7/dist-packages/keras/engine/training_arrays.pyc\u001b[0m in \u001b[0;36mpredict_loop\u001b[0;34m(model, f, ins, batch_size, verbose, steps, callbacks)\u001b[0m\n\u001b[1;32m    330\u001b[0m             \u001b[0mbatch_logs\u001b[0m \u001b[0;34m=\u001b[0m \u001b[0;34m{\u001b[0m\u001b[0;34m'batch'\u001b[0m\u001b[0;34m:\u001b[0m \u001b[0mbatch_index\u001b[0m\u001b[0;34m,\u001b[0m \u001b[0;34m'size'\u001b[0m\u001b[0;34m:\u001b[0m \u001b[0mlen\u001b[0m\u001b[0;34m(\u001b[0m\u001b[0mbatch_ids\u001b[0m\u001b[0;34m)\u001b[0m\u001b[0;34m}\u001b[0m\u001b[0;34m\u001b[0m\u001b[0m\n\u001b[1;32m    331\u001b[0m             \u001b[0mcallbacks\u001b[0m\u001b[0;34m.\u001b[0m\u001b[0m_call_batch_hook\u001b[0m\u001b[0;34m(\u001b[0m\u001b[0;34m'predict'\u001b[0m\u001b[0;34m,\u001b[0m \u001b[0;34m'begin'\u001b[0m\u001b[0;34m,\u001b[0m \u001b[0mbatch_index\u001b[0m\u001b[0;34m,\u001b[0m \u001b[0mbatch_logs\u001b[0m\u001b[0;34m)\u001b[0m\u001b[0;34m\u001b[0m\u001b[0m\n\u001b[0;32m--> 332\u001b[0;31m             \u001b[0mbatch_outs\u001b[0m \u001b[0;34m=\u001b[0m \u001b[0mf\u001b[0m\u001b[0;34m(\u001b[0m\u001b[0mins_batch\u001b[0m\u001b[0;34m)\u001b[0m\u001b[0;34m\u001b[0m\u001b[0m\n\u001b[0m\u001b[1;32m    333\u001b[0m             \u001b[0mbatch_outs\u001b[0m \u001b[0;34m=\u001b[0m \u001b[0mto_list\u001b[0m\u001b[0;34m(\u001b[0m\u001b[0mbatch_outs\u001b[0m\u001b[0;34m)\u001b[0m\u001b[0;34m\u001b[0m\u001b[0m\n\u001b[1;32m    334\u001b[0m             \u001b[0;32mif\u001b[0m \u001b[0mbatch_index\u001b[0m \u001b[0;34m==\u001b[0m \u001b[0;36m0\u001b[0m\u001b[0;34m:\u001b[0m\u001b[0;34m\u001b[0m\u001b[0m\n",
      "\u001b[0;32m/usr/local/lib/python2.7/dist-packages/keras/backend/tensorflow_backend.pyc\u001b[0m in \u001b[0;36m__call__\u001b[0;34m(self, inputs)\u001b[0m\n\u001b[1;32m   2977\u001b[0m                     \u001b[0;32mreturn\u001b[0m \u001b[0mself\u001b[0m\u001b[0;34m.\u001b[0m\u001b[0m_legacy_call\u001b[0m\u001b[0;34m(\u001b[0m\u001b[0minputs\u001b[0m\u001b[0;34m)\u001b[0m\u001b[0;34m\u001b[0m\u001b[0m\n\u001b[1;32m   2978\u001b[0m \u001b[0;34m\u001b[0m\u001b[0m\n\u001b[0;32m-> 2979\u001b[0;31m             \u001b[0;32mreturn\u001b[0m \u001b[0mself\u001b[0m\u001b[0;34m.\u001b[0m\u001b[0m_call\u001b[0m\u001b[0;34m(\u001b[0m\u001b[0minputs\u001b[0m\u001b[0;34m)\u001b[0m\u001b[0;34m\u001b[0m\u001b[0m\n\u001b[0m\u001b[1;32m   2980\u001b[0m         \u001b[0;32melse\u001b[0m\u001b[0;34m:\u001b[0m\u001b[0;34m\u001b[0m\u001b[0m\n\u001b[1;32m   2981\u001b[0m             \u001b[0;32mif\u001b[0m \u001b[0mpy_any\u001b[0m\u001b[0;34m(\u001b[0m\u001b[0mis_tensor\u001b[0m\u001b[0;34m(\u001b[0m\u001b[0mx\u001b[0m\u001b[0;34m)\u001b[0m \u001b[0;32mfor\u001b[0m \u001b[0mx\u001b[0m \u001b[0;32min\u001b[0m \u001b[0minputs\u001b[0m\u001b[0;34m)\u001b[0m\u001b[0;34m:\u001b[0m\u001b[0;34m\u001b[0m\u001b[0m\n",
      "\u001b[0;32m/usr/local/lib/python2.7/dist-packages/keras/backend/tensorflow_backend.pyc\u001b[0m in \u001b[0;36m_call\u001b[0;34m(self, inputs)\u001b[0m\n\u001b[1;32m   2935\u001b[0m             \u001b[0mfetched\u001b[0m \u001b[0;34m=\u001b[0m \u001b[0mself\u001b[0m\u001b[0;34m.\u001b[0m\u001b[0m_callable_fn\u001b[0m\u001b[0;34m(\u001b[0m\u001b[0;34m*\u001b[0m\u001b[0marray_vals\u001b[0m\u001b[0;34m,\u001b[0m \u001b[0mrun_metadata\u001b[0m\u001b[0;34m=\u001b[0m\u001b[0mself\u001b[0m\u001b[0;34m.\u001b[0m\u001b[0mrun_metadata\u001b[0m\u001b[0;34m)\u001b[0m\u001b[0;34m\u001b[0m\u001b[0m\n\u001b[1;32m   2936\u001b[0m         \u001b[0;32melse\u001b[0m\u001b[0;34m:\u001b[0m\u001b[0;34m\u001b[0m\u001b[0m\n\u001b[0;32m-> 2937\u001b[0;31m             \u001b[0mfetched\u001b[0m \u001b[0;34m=\u001b[0m \u001b[0mself\u001b[0m\u001b[0;34m.\u001b[0m\u001b[0m_callable_fn\u001b[0m\u001b[0;34m(\u001b[0m\u001b[0;34m*\u001b[0m\u001b[0marray_vals\u001b[0m\u001b[0;34m)\u001b[0m\u001b[0;34m\u001b[0m\u001b[0m\n\u001b[0m\u001b[1;32m   2938\u001b[0m         \u001b[0;32mreturn\u001b[0m \u001b[0mfetched\u001b[0m\u001b[0;34m[\u001b[0m\u001b[0;34m:\u001b[0m\u001b[0mlen\u001b[0m\u001b[0;34m(\u001b[0m\u001b[0mself\u001b[0m\u001b[0;34m.\u001b[0m\u001b[0moutputs\u001b[0m\u001b[0;34m)\u001b[0m\u001b[0;34m]\u001b[0m\u001b[0;34m\u001b[0m\u001b[0m\n\u001b[1;32m   2939\u001b[0m \u001b[0;34m\u001b[0m\u001b[0m\n",
      "\u001b[0;32m/home/fizzer/.local/lib/python2.7/site-packages/tensorflow/python/client/session.pyc\u001b[0m in \u001b[0;36m__call__\u001b[0;34m(self, *args, **kwargs)\u001b[0m\n\u001b[1;32m   1456\u001b[0m         ret = tf_session.TF_SessionRunCallable(self._session._session,\n\u001b[1;32m   1457\u001b[0m                                                \u001b[0mself\u001b[0m\u001b[0;34m.\u001b[0m\u001b[0m_handle\u001b[0m\u001b[0;34m,\u001b[0m \u001b[0margs\u001b[0m\u001b[0;34m,\u001b[0m\u001b[0;34m\u001b[0m\u001b[0m\n\u001b[0;32m-> 1458\u001b[0;31m                                                run_metadata_ptr)\n\u001b[0m\u001b[1;32m   1459\u001b[0m         \u001b[0;32mif\u001b[0m \u001b[0mrun_metadata\u001b[0m\u001b[0;34m:\u001b[0m\u001b[0;34m\u001b[0m\u001b[0m\n\u001b[1;32m   1460\u001b[0m           \u001b[0mproto_data\u001b[0m \u001b[0;34m=\u001b[0m \u001b[0mtf_session\u001b[0m\u001b[0;34m.\u001b[0m\u001b[0mTF_GetBuffer\u001b[0m\u001b[0;34m(\u001b[0m\u001b[0mrun_metadata_ptr\u001b[0m\u001b[0;34m)\u001b[0m\u001b[0;34m\u001b[0m\u001b[0m\n",
      "\u001b[0;31mKeyboardInterrupt\u001b[0m: "
     ]
    }
   ],
   "source": [
    "split = int(round(0.68*len(X_train))*VALIDATION_SPLIT)\n",
    "print split\n",
    "\n",
    "labels = [\"Forward\", \"Backward\", \"Left\", \"Right\"]\n",
    "y_gnd_truth = Y_train[split:].argmax(axis=1)\n",
    "y_pred_raw = loaded_model.predict(X_train_normed[split:])\n",
    "y_pred = y_pred_raw.argmax(axis=1)\n",
    "\n",
    "matrix = metrics.confusion_matrix(y_gnd_truth, y_pred)\n",
    "\n",
    "df_cm = pd.DataFrame(matrix, index = labels, columns = labels)\n",
    "plt.figure(figsize = (10,7))\n",
    "sn.heatmap(df_cm, annot=True)\n",
    "#plt.matshow(matrix)"
   ]
  },
  {
   "cell_type": "code",
   "execution_count": null,
   "metadata": {},
   "outputs": [],
   "source": []
  }
 ],
 "metadata": {
  "kernelspec": {
   "display_name": "Python 2",
   "language": "python",
   "name": "python2"
  },
  "language_info": {
   "codemirror_mode": {
    "name": "ipython",
    "version": 2
   },
   "file_extension": ".py",
   "mimetype": "text/x-python",
   "name": "python",
   "nbconvert_exporter": "python",
   "pygments_lexer": "ipython2",
   "version": "3.6.9-final"
  }
 },
 "nbformat": 4,
 "nbformat_minor": 2
}