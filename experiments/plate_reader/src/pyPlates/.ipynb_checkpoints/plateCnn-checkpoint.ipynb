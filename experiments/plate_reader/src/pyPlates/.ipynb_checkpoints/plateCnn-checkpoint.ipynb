{
 "cells": [
  {
   "cell_type": "code",
   "execution_count": 1,
   "metadata": {},
   "outputs": [
    {
     "name": "stderr",
     "output_type": "stream",
     "text": [
      "Using TensorFlow backend.\n"
     ]
    },
    {
     "name": "stdout",
     "output_type": "stream",
     "text": [
      "(4472, 64, 64, 1)\n",
      "(2236, 64, 64, 1)\n"
     ]
    }
   ],
   "source": [
    "import matplotlib.pyplot as plt\n",
    "import cv2 as cv\n",
    "import numpy as np\n",
    "import keras\n",
    "from keras import layers\n",
    "from keras import models\n",
    "from keras import optimizers\n",
    "\n",
    "from keras.utils import plot_model\n",
    "from keras import backend\n",
    "import os\n",
    "from sklearn.model_selection import train_test_split\n",
    "from sklearn.preprocessing import LabelEncoder\n",
    "from keras.utils.np_utils import to_categorical  \n",
    "\n",
    "\n",
    "from scipy import ndimage\n",
    "from random import randint\n",
    "\n",
    "\n",
    "numbpath = \"plate/trainimg/numbers/\"\n",
    "letterpath = \"plate/trainimg/letters/\"\n",
    "\n",
    "num_files = os.listdir(numbpath)\n",
    "let_files = os.listdir(letterpath)\n",
    "\n",
    "cut_max = (130,255,255)\n",
    "cut_min=(100, 150,45)\n",
    "\n",
    "nLabels = [F[0] for F in num_files]\n",
    "lLabels = [F[0] for F in let_files]\n",
    "\n",
    "Labels = nLabels + lLabels\n",
    "\n",
    "enc = LabelEncoder()\n",
    "enc.fit(Labels)\n",
    "\n",
    "numClasses = enc.transform(nLabels)\n",
    "letClasses = enc.transform(lLabels)\n",
    "Classes = enc.transform(Labels)\n",
    "\n",
    "def cut_and_blur(img):\n",
    "    hsv = cv.cvtColor(img, cv.COLOR_BGR2HSV)\n",
    "    cut = cv.inRange(hsv, cut_min,cut_max)\n",
    "    return ndimage.uniform_filter(cut, size=randint(7,17))\n",
    "\n",
    "#Classes = to_categorical(Classes, num_classes = 36)\n",
    "\n",
    "numbFrames = [np.array(cv.imread(numbpath + F)) for F in num_files]\n",
    "letFrames = [np.array(cv.imread(letterpath + F)) for F in let_files]\n",
    "\n",
    "Frames = numbFrames + letFrames\n",
    "#print(Frames)\n",
    "#Frames = [np.delete(x, range(100,110), 1) for x in Frames]\n",
    "letFrames = [np.reshape(cv.resize(cut_and_blur(x), (64,64)), (64,64,1)) for x in letFrames]\n",
    "letFrames = np.stack(letFrames).astype(float)/255\n",
    "numbFrames = [np.reshape(cv.resize(cut_and_blur(x), (64,64)), (64,64,1)) for x in numbFrames]\n",
    "numbFrames = np.stack(numbFrames).astype(float)/255\n",
    "Frames = [np.reshape(cv.resize(cut_and_blur(x), (64,64)), (64,64,1)) for x in Frames]\n",
    "Frames = np.stack(Frames).astype(float)/255\n",
    "\n",
    "print(Frames.shape)\n",
    "#Frames = Frames.reshape(Frames.shape[1]*Frames.shape[2]*Frames.shape[3], Frames.shape[0]).T\n",
    "print(letFrames.shape)\n",
    "\n",
    "xtrainL, xtestL, ytrainL, ytestL = train_test_split(letFrames, letClasses, test_size = 0.1)\n",
    "xtrainL, xtestN, ytrainN, ytestN = train_test_split(numbFrames, numClasses, test_size = 0.1)\n",
    "xtrain, xtest, ytrain, ytest  = train_test_split(Frames, Classes, test_size = 0.1)"
   ]
  },
  {
   "cell_type": "code",
   "execution_count": 14,
   "metadata": {},
   "outputs": [
    {
     "name": "stdout",
     "output_type": "stream",
     "text": [
      "Train on 3621 samples, validate on 403 samples\n",
      "Epoch 1/5\n",
      "3621/3621 [==============================] - 19s 5ms/step - loss: 2.4602 - accuracy: 0.3220 - val_loss: 0.3007 - val_accuracy: 0.9529\n",
      "Epoch 2/5\n",
      "3621/3621 [==============================] - 20s 5ms/step - loss: 0.5323 - accuracy: 0.8304 - val_loss: 0.0298 - val_accuracy: 0.9975\n",
      "Epoch 3/5\n",
      "3621/3621 [==============================] - 21s 6ms/step - loss: 0.2605 - accuracy: 0.9119 - val_loss: 0.0052 - val_accuracy: 1.0000\n",
      "Epoch 4/5\n",
      "3621/3621 [==============================] - 17s 5ms/step - loss: 0.1715 - accuracy: 0.9415 - val_loss: 0.0027 - val_accuracy: 1.0000\n",
      "Epoch 5/5\n",
      "3621/3621 [==============================] - 16s 4ms/step - loss: 0.1044 - accuracy: 0.9647 - val_loss: 3.8332e-04 - val_accuracy: 1.0000\n"
     ]
    }
   ],
   "source": [
    "# model = models.Sequential()\n",
    "# model.add(layers.Conv2D(64, (3, 3), input_shape = (128,128,3), activation='relu',))\n",
    "# model.add(layers.MaxPooling2D((2, 2)))\n",
    "# model.add(layers.Conv2D(128, (3, 3), activation='relu'))\n",
    "# model.add(layers.MaxPooling2D((2, 2)))\n",
    "# model.add(lay ers.MaxPooling2D((2, 2)))\n",
    "# model.add(layers.Flatten())\n",
    "# model.add(layers.Dropout(0.5))\n",
    "# model.add(layers.Dense(512, activation='relu'))\n",
    "# model.add(layers.Dense(128, activation = 'relu'))\n",
    "# model.add(layers.Dense(36, activation='softmax'))\n",
    "\n",
    "model = models.Sequential()\n",
    "model.add(layers.Conv2D(32, (3, 3), activation='relu', input_shape=(64,64, 1)))\n",
    "model.add(layers.MaxPooling2D((2, 2)))\n",
    "model.add(layers.Conv2D(64, (3, 3), activation='relu'))\n",
    "model.add(layers.MaxPooling2D((2, 2)))\n",
    "model.add(layers.Conv2D(128, (3, 3), activation='relu'))\n",
    "model.add(layers.MaxPooling2D((2, 2)))\n",
    "model.add(layers.Conv2D(128, (3, 3), activation='relu'))\n",
    "model.add(layers.MaxPooling2D((2, 2)))\n",
    "model.add(layers.Dropout(0.5))\n",
    "model.add(layers.Flatten())\n",
    "model.add(layers.Dropout(0.5))\n",
    "model.add(layers.Dense(512, activation='relu'))\n",
    "model.add(layers.Dropout(0.5))\n",
    "model.add(layers.Dense(36, activation='softmax'))\n",
    "\n",
    "#adam = optimizers.adam(lr= 1e-3)\n",
    "\n",
    "#train the model\n",
    "model.compile(optimizer='adam',\n",
    "             loss='sparse_categorical_crossentropy',\n",
    "             metrics=['accuracy'])\n",
    "\n",
    "history = model.fit(xtrain, ytrain, validation_split = 0.1,\n",
    "         epochs=5,\n",
    "         verbose=1)"
   ]
  },
  {
   "cell_type": "code",
   "execution_count": 3,
   "metadata": {},
   "outputs": [],
   "source": [
    "pred = model.predict(xtest)\n",
    "pred = enc.inverse_transform([np.argmax(x) for x in pred])"
   ]
  },
  {
   "cell_type": "code",
   "execution_count": 10,
   "metadata": {},
   "outputs": [
    {
     "ename": "TypeError",
     "evalue": "confusion_matrix() got an unexpected keyword argument 'normalize'",
     "output_type": "error",
     "traceback": [
      "\u001b[0;31m---------------------------------------------------------------------------\u001b[0m",
      "\u001b[0;31mTypeError\u001b[0m                                 Traceback (most recent call last)",
      "\u001b[0;32m<ipython-input-10-100771006fdd>\u001b[0m in \u001b[0;36m<module>\u001b[0;34m()\u001b[0m\n\u001b[1;32m      2\u001b[0m \u001b[0;32mimport\u001b[0m \u001b[0msklearn\u001b[0m\u001b[0;34m\u001b[0m\u001b[0m\n\u001b[1;32m      3\u001b[0m \u001b[0;34m\u001b[0m\u001b[0m\n\u001b[0;32m----> 4\u001b[0;31m \u001b[0mconfmatrix\u001b[0m \u001b[0;34m=\u001b[0m \u001b[0msklearn\u001b[0m\u001b[0;34m.\u001b[0m\u001b[0mmetrics\u001b[0m\u001b[0;34m.\u001b[0m\u001b[0mconfusion_matrix\u001b[0m\u001b[0;34m(\u001b[0m\u001b[0mpred\u001b[0m\u001b[0;34m,\u001b[0m \u001b[0mtestlabels\u001b[0m\u001b[0;34m,\u001b[0m \u001b[0mnormalize\u001b[0m \u001b[0;34m=\u001b[0m \u001b[0;34m'true'\u001b[0m\u001b[0;34m)\u001b[0m\u001b[0;34m\u001b[0m\u001b[0m\n\u001b[0m\u001b[1;32m      5\u001b[0m \u001b[0;32mprint\u001b[0m\u001b[0;34m(\u001b[0m\u001b[0mconfmatrix\u001b[0m\u001b[0;34m)\u001b[0m\u001b[0;34m\u001b[0m\u001b[0m\n\u001b[1;32m      6\u001b[0m \u001b[0;31m# i = 0\u001b[0m\u001b[0;34m\u001b[0m\u001b[0;34m\u001b[0m\u001b[0m\n",
      "\u001b[0;31mTypeError\u001b[0m: confusion_matrix() got an unexpected keyword argument 'normalize'"
     ]
    }
   ],
   "source": [
    "testlabels = enc.inverse_transform(ytest)\n",
    "import sklearn\n",
    "\n",
    "confmatrix = sklearn.metrics.confusion_matrix(pred, testlabels, normalize = 'true')\n",
    "print(confmatrix)\n",
    "\n",
    "\n",
    "# for fr in xtest:\n",
    "#     plt.imshow(fr[:,:,0])\n",
    "#     title = pred[i]\n",
    "#     plt.title(title)\n",
    "#     plt.show() #enc.inverse_transform([pred[i]])+ \" \" + enc.inverse_transform([ytest[i]]))\n",
    "#     i += 1"
   ]
  },
  {
   "cell_type": "code",
   "execution_count": null,
   "metadata": {},
   "outputs": [],
   "source": [
    "# import joblib\n",
    "# import pickle \n",
    "# #joblib.dump(model, \"cnn.jb\")\n",
    "# with open('cnn.pkl', 'wb') as f:\n",
    "#     pickle.dump(model,f)\n",
    "# #joblib.dump(enc, \"encoder.jb\")\n"
   ]
  },
  {
   "cell_type": "code",
   "execution_count": null,
   "metadata": {},
   "outputs": [],
   "source": [
    "# model.save('anothermodel_all.h5')"
   ]
  },
  {
   "cell_type": "code",
   "execution_count": null,
   "metadata": {},
   "outputs": [],
   "source": [
    "out = clf.predict(model.predict(xtest))"
   ]
  },
  {
   "cell_type": "code",
   "execution_count": null,
   "metadata": {},
   "outputs": [],
   "source": [
    "print(xtrain.shape[1:]+ (1,))"
   ]
  },
  {
   "cell_type": "code",
   "execution_count": null,
   "metadata": {},
   "outputs": [],
   "source": [
    "model.fit(xtrain, ytrain,\n",
    "         epochs=25,\n",
    "         verbose=1)"
   ]
  },
  {
   "cell_type": "code",
   "execution_count": 18,
   "metadata": {},
   "outputs": [
    {
     "data": {
      "image/png": "[encoded data removed]",
      "text/plain": [
       "<Figure size 432x288 with 1 Axes>"
      ]
     },
     "metadata": {
      "needs_background": "light"
     },
     "output_type": "display_data"
    }
   ],
   "source": [
    "import matplotlib.pyplot as plt\n",
    "\n",
    "plt.plot(history.history['accuracy'])\n",
    "plt.plot(history.history['val_accuracy'])\n",
    "plt.plot(history.history['loss'])\n",
    "plt.plot(history.history['val_loss'])\n",
    "plt.title('model accuracy')\n",
    "plt.ylabel('accuracy')\n",
    "plt.xlabel('epoch')\n",
    "plt.legend(['train', 'val', ], loc='upper left')\n",
    "plt.show()"
   ]
  },
  {
   "cell_type": "code",
   "execution_count": 16,
   "metadata": {},
   "outputs": [
    {
     "name": "stdout",
     "output_type": "stream",
     "text": [
      "['loss', 'val_accuracy', 'val_loss', 'accuracy']\n"
     ]
    }
   ],
   "source": [
    "plt.plot(history.history['loss'])\n",
    "plt.plot(history.history['val_loss'])\n",
    "plt.title('model accuracy')\n",
    "plt.ylabel('accuracy')\n",
    "plt.xlabel('epoch')\n",
    "plt.legend(['train loss', 'validation lass', ], loc='upper right')\n",
    "plt.show()"
   ]
  }
 ],
 "metadata": {
  "kernelspec": {
   "display_name": "Python 2",
   "language": "python",
   "name": "python2"
  },
  "language_info": {
   "codemirror_mode": {
    "name": "ipython",
    "version": 2
   },
   "file_extension": ".py",
   "mimetype": "text/x-python",
   "name": "python",
   "nbconvert_exporter": "python",
   "pygments_lexer": "ipython2",
   "version": "2.7.17"
  }
 },
 "nbformat": 4,
 "nbformat_minor": 2
}
